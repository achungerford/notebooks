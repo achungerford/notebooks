{
 "cells": [
  {
   "cell_type": "markdown",
   "metadata": {},
   "source": [
    "# If Statements\n",
    "### Python Crash Course: Chapter 5\n",
    "\n",
    "**Boolean Logic** is a form of algebra which is centered around three simple words known as Boolean Operators: `OR`, `AND`,  and `NOT`. At the heart of Boolean Logic is the idea that all values are either true or false. Often times these answers are based on **conditional tests**."
   ]
  },
  {
   "cell_type": "markdown",
   "metadata": {},
   "source": [
    "### checking if they're equal"
   ]
  },
  {
   "cell_type": "code",
   "execution_count": 1,
   "metadata": {},
   "outputs": [
    {
     "data": {
      "text/plain": [
       "False"
      ]
     },
     "execution_count": 1,
     "metadata": {},
     "output_type": "execute_result"
    }
   ],
   "source": [
    "a = 'fun'  # capitalization matters\n",
    "b = 'Fun'\n",
    "\n",
    "a == b    # does a equal b?"
   ]
  },
  {
   "cell_type": "code",
   "execution_count": 2,
   "metadata": {},
   "outputs": [
    {
     "name": "stdout",
     "output_type": "stream",
     "text": [
      "Washington\n",
      "Adams\n",
      "JEFFERSON\n",
      "Madison\n",
      "Monroe\n",
      "Q. Adams\n"
     ]
    }
   ],
   "source": [
    "# create the list\n",
    "first_six = ['washington', 'adams', 'jefferson', 'madison', 'monroe', 'q. adams']\n",
    "\n",
    "for person in first_six:         # create the for loop\n",
    "    if person == 'jefferson':    # nest an if-statement with a conditional test in the for loop\n",
    "        print(person.upper())    # if true, do this\n",
    "    else:\n",
    "        print(person.title())    # otherwise, do this"
   ]
  },
  {
   "cell_type": "markdown",
   "metadata": {},
   "source": [
    "Python is case sensitive."
   ]
  },
  {
   "cell_type": "code",
   "execution_count": 3,
   "metadata": {},
   "outputs": [
    {
     "data": {
      "text/plain": [
       "False"
      ]
     },
     "execution_count": 3,
     "metadata": {},
     "output_type": "execute_result"
    }
   ],
   "source": [
    "# false, case sensitive\n",
    "prez = 'Adams'   # define prez\n",
    "prez == 'adams'  # does 'Adams' equal 'adams'?"
   ]
  },
  {
   "cell_type": "markdown",
   "metadata": {},
   "source": [
    "#### ignoring capitalization when checking for equality\n",
    "\n",
    "If you want to check a comparison, and you're not concerned about the capitalization, you can covert the variable's valu to lowercase. `lower()` or `upper()`"
   ]
  },
  {
   "cell_type": "code",
   "execution_count": 4,
   "metadata": {},
   "outputs": [
    {
     "name": "stdout",
     "output_type": "stream",
     "text": [
      "Adams\n"
     ]
    },
    {
     "data": {
      "text/plain": [
       "True"
      ]
     },
     "execution_count": 4,
     "metadata": {},
     "output_type": "execute_result"
    }
   ],
   "source": [
    "print(prez)\n",
    "prez.lower() == 'adams'    # checking if 'adams' = 'adams', while keeping prez var unchanged"
   ]
  },
  {
   "cell_type": "markdown",
   "metadata": {},
   "source": [
    "### check for inequality"
   ]
  },
  {
   "cell_type": "code",
   "execution_count": 5,
   "metadata": {},
   "outputs": [],
   "source": [
    "prez_1 = 'Washington'\n",
    "prez_2 = 'Adams'"
   ]
  },
  {
   "cell_type": "code",
   "execution_count": 6,
   "metadata": {},
   "outputs": [
    {
     "name": "stdout",
     "output_type": "stream",
     "text": [
      "Not equal\n"
     ]
    }
   ],
   "source": [
    "if prez_1 != prez_2:\n",
    "    print('Not equal')"
   ]
  },
  {
   "cell_type": "markdown",
   "metadata": {},
   "source": [
    "### numerical comparisons"
   ]
  },
  {
   "cell_type": "code",
   "execution_count": 7,
   "metadata": {},
   "outputs": [
    {
     "data": {
      "text/plain": [
       "True"
      ]
     },
     "execution_count": 7,
     "metadata": {},
     "output_type": "execute_result"
    }
   ],
   "source": [
    "age = 18     # set age to 18\n",
    "age == 18    # check if age is 18"
   ]
  },
  {
   "cell_type": "code",
   "execution_count": 8,
   "metadata": {},
   "outputs": [
    {
     "name": "stdout",
     "output_type": "stream",
     "text": [
      "ages are not equal\n"
     ]
    }
   ],
   "source": [
    "# check that age does not equal 30\n",
    "\n",
    "if age != 30:\n",
    "    print('ages are not equal')"
   ]
  },
  {
   "cell_type": "markdown",
   "metadata": {},
   "source": [
    "### mathematical comparisons"
   ]
  },
  {
   "cell_type": "code",
   "execution_count": 9,
   "metadata": {},
   "outputs": [
    {
     "data": {
      "text/plain": [
       "True"
      ]
     },
     "execution_count": 9,
     "metadata": {},
     "output_type": "execute_result"
    }
   ],
   "source": [
    "age = 18\n",
    "age < 30    # is age less than 30?"
   ]
  },
  {
   "cell_type": "code",
   "execution_count": 10,
   "metadata": {},
   "outputs": [
    {
     "data": {
      "text/plain": [
       "True"
      ]
     },
     "execution_count": 10,
     "metadata": {},
     "output_type": "execute_result"
    }
   ],
   "source": [
    "age > 12    # is age greater than 12?"
   ]
  },
  {
   "cell_type": "code",
   "execution_count": 11,
   "metadata": {},
   "outputs": [
    {
     "data": {
      "text/plain": [
       "False"
      ]
     },
     "execution_count": 11,
     "metadata": {},
     "output_type": "execute_result"
    }
   ],
   "source": [
    "age < 12    # is age less than 12?"
   ]
  },
  {
   "cell_type": "code",
   "execution_count": 12,
   "metadata": {},
   "outputs": [
    {
     "data": {
      "text/plain": [
       "True"
      ]
     },
     "execution_count": 12,
     "metadata": {},
     "output_type": "execute_result"
    }
   ],
   "source": [
    "age >= 18    # is age greater than or equal to 18?"
   ]
  },
  {
   "cell_type": "code",
   "execution_count": 13,
   "metadata": {},
   "outputs": [
    {
     "data": {
      "text/plain": [
       "True"
      ]
     },
     "execution_count": 13,
     "metadata": {},
     "output_type": "execute_result"
    }
   ],
   "source": [
    "age <= 18    # is age less than or equal to 18? "
   ]
  },
  {
   "cell_type": "markdown",
   "metadata": {},
   "source": [
    "## Boolean Logic - checking multiple conditions"
   ]
  },
  {
   "cell_type": "markdown",
   "metadata": {},
   "source": [
    "### AND"
   ]
  },
  {
   "cell_type": "code",
   "execution_count": 14,
   "metadata": {},
   "outputs": [],
   "source": [
    "# True, True, = True\n",
    "# True, False = False\n",
    "# False, False = False"
   ]
  },
  {
   "cell_type": "code",
   "execution_count": 15,
   "metadata": {},
   "outputs": [],
   "source": [
    "age_0 = 10\n",
    "age_1 = 10\n",
    "age_2 = 20"
   ]
  },
  {
   "cell_type": "code",
   "execution_count": 16,
   "metadata": {},
   "outputs": [
    {
     "data": {
      "text/plain": [
       "True"
      ]
     },
     "execution_count": 16,
     "metadata": {},
     "output_type": "execute_result"
    }
   ],
   "source": [
    "# is age_0 equal to age_1 and is age_0 less than 15?\n",
    "\n",
    "# True, True = True\n",
    "age_0 == age_1 and age_0 <= 15"
   ]
  },
  {
   "cell_type": "code",
   "execution_count": 17,
   "metadata": {},
   "outputs": [
    {
     "data": {
      "text/plain": [
       "False"
      ]
     },
     "execution_count": 17,
     "metadata": {},
     "output_type": "execute_result"
    }
   ],
   "source": [
    "# True, False = False\n",
    "age_0 == age_1 and age_0 >= age_2"
   ]
  },
  {
   "cell_type": "code",
   "execution_count": 18,
   "metadata": {},
   "outputs": [
    {
     "data": {
      "text/plain": [
       "False"
      ]
     },
     "execution_count": 18,
     "metadata": {},
     "output_type": "execute_result"
    }
   ],
   "source": [
    "# False, False = False\n",
    "age_0 <= 5 and age_0 > age_2"
   ]
  },
  {
   "cell_type": "markdown",
   "metadata": {},
   "source": [
    "### OR"
   ]
  },
  {
   "cell_type": "code",
   "execution_count": 19,
   "metadata": {},
   "outputs": [],
   "source": [
    "# True, True = True\n",
    "# True, False = True\n",
    "# False, False = False"
   ]
  },
  {
   "cell_type": "code",
   "execution_count": 20,
   "metadata": {},
   "outputs": [
    {
     "data": {
      "text/plain": [
       "True"
      ]
     },
     "execution_count": 20,
     "metadata": {},
     "output_type": "execute_result"
    }
   ],
   "source": [
    "age_0 == age_1 or age_0 <= 5"
   ]
  },
  {
   "cell_type": "code",
   "execution_count": 21,
   "metadata": {},
   "outputs": [
    {
     "data": {
      "text/plain": [
       "True"
      ]
     },
     "execution_count": 21,
     "metadata": {},
     "output_type": "execute_result"
    }
   ],
   "source": [
    "age_0 >= 5 or age_0 <= 5"
   ]
  },
  {
   "cell_type": "code",
   "execution_count": 22,
   "metadata": {},
   "outputs": [
    {
     "data": {
      "text/plain": [
       "False"
      ]
     },
     "execution_count": 22,
     "metadata": {},
     "output_type": "execute_result"
    }
   ],
   "source": [
    "age_0 >= age_2 or age_2 == age_1"
   ]
  },
  {
   "cell_type": "markdown",
   "metadata": {},
   "source": [
    "### Boolean expressions - True, False"
   ]
  },
  {
   "cell_type": "code",
   "execution_count": 23,
   "metadata": {},
   "outputs": [],
   "source": [
    "game_active = True\n",
    "can_edit = False"
   ]
  },
  {
   "cell_type": "code",
   "execution_count": 24,
   "metadata": {},
   "outputs": [
    {
     "name": "stdout",
     "output_type": "stream",
     "text": [
      "no edit\n"
     ]
    }
   ],
   "source": [
    "if game_active == True:\n",
    "    print('no edit')"
   ]
  },
  {
   "cell_type": "markdown",
   "metadata": {},
   "source": [
    "### check if a value is in a list"
   ]
  },
  {
   "cell_type": "code",
   "execution_count": 25,
   "metadata": {},
   "outputs": [],
   "source": [
    "obamas = ['Barack', 'Michele', 'Malia', 'Sasha']"
   ]
  },
  {
   "cell_type": "code",
   "execution_count": 26,
   "metadata": {},
   "outputs": [
    {
     "data": {
      "text/plain": [
       "True"
      ]
     },
     "execution_count": 26,
     "metadata": {},
     "output_type": "execute_result"
    }
   ],
   "source": [
    "'Michele' in obamas"
   ]
  },
  {
   "cell_type": "code",
   "execution_count": 27,
   "metadata": {},
   "outputs": [
    {
     "data": {
      "text/plain": [
       "False"
      ]
     },
     "execution_count": 27,
     "metadata": {},
     "output_type": "execute_result"
    }
   ],
   "source": [
    "'clintons' in obamas"
   ]
  },
  {
   "cell_type": "markdown",
   "metadata": {},
   "source": [
    "### check if a value is not in a list"
   ]
  },
  {
   "cell_type": "code",
   "execution_count": 28,
   "metadata": {},
   "outputs": [],
   "source": [
    "sec_state = 'HRC'"
   ]
  },
  {
   "cell_type": "code",
   "execution_count": 29,
   "metadata": {},
   "outputs": [
    {
     "name": "stdout",
     "output_type": "stream",
     "text": [
      "Clinton != Obama\n"
     ]
    }
   ],
   "source": [
    "if sec_state not in obamas:\n",
    "    print('Clinton != Obama')"
   ]
  },
  {
   "cell_type": "markdown",
   "metadata": {},
   "source": [
    "## if-else statements"
   ]
  },
  {
   "cell_type": "code",
   "execution_count": 30,
   "metadata": {},
   "outputs": [
    {
     "name": "stdout",
     "output_type": "stream",
     "text": [
      "You can vote!\n"
     ]
    }
   ],
   "source": [
    "age = 21\n",
    "\n",
    "if age >= 18:    # min age to vote\n",
    "    print(\"You can vote!\")\n",
    "else:\n",
    "    print(\"You're too young to vote!\")"
   ]
  },
  {
   "cell_type": "markdown",
   "metadata": {},
   "source": [
    "## if-elif-else statements\n",
    "\n",
    "Use ony when you need one test to pass. If you need to check ALL conditions of a test, then you should use a series of simple if-statements without `elif` or `else` blocks."
   ]
  },
  {
   "cell_type": "code",
   "execution_count": 31,
   "metadata": {},
   "outputs": [
    {
     "name": "stdout",
     "output_type": "stream",
     "text": [
      "You can vote and drink!\n"
     ]
    }
   ],
   "source": [
    "# put conditionals in increasing order?\n",
    "\n",
    "age = 22\n",
    "\n",
    "if age < 18:                                               # min age to vote\n",
    "    print(\"Sorry, you're too young to drink or vote.\")\n",
    "elif age >= 21:                                            # min age to drink\n",
    "    print(\"You can vote and drink!\")\n",
    "else:                                                      # everything in-between\n",
    "    print(\"You can vote, but you're too young to drink.\")"
   ]
  },
  {
   "cell_type": "code",
   "execution_count": 32,
   "metadata": {},
   "outputs": [
    {
     "name": "stdout",
     "output_type": "stream",
     "text": [
      "You can vote, but you're too young to drink.\n"
     ]
    }
   ],
   "source": [
    "age = 18\n",
    "\n",
    "if age < 18:         # min age to vote\n",
    "    print(\"Sorry, you're too young to drink or vote.\")\n",
    "elif age >= 21:      # min age to drink\n",
    "    print(\"You can vote and drink!\")\n",
    "else:                # everything inbetween\n",
    "    print(\"You can vote, but you're too young to drink.\")"
   ]
  },
  {
   "cell_type": "code",
   "execution_count": 33,
   "metadata": {},
   "outputs": [
    {
     "name": "stdout",
     "output_type": "stream",
     "text": [
      "Sorry, you're too young to drink or vote.\n"
     ]
    }
   ],
   "source": [
    "age = 17\n",
    "\n",
    "if age < 18:\n",
    "    print(\"Sorry, you're too young to drink or vote.\")\n",
    "elif age >= 21:\n",
    "    print(\"You can vote and drink!\")\n",
    "else:\n",
    "    print(\"You can vote, but you're too young to drink.\")"
   ]
  },
  {
   "cell_type": "markdown",
   "metadata": {},
   "source": [
    "#### a common error with if-elif-else\n",
    "\n",
    "If the test passes the conditional, the message is printed and Python skips the rest of the tests"
   ]
  },
  {
   "cell_type": "code",
   "execution_count": 34,
   "metadata": {},
   "outputs": [
    {
     "name": "stdout",
     "output_type": "stream",
     "text": [
      "You can vote.\n"
     ]
    }
   ],
   "source": [
    "# for example, say we altered the sign in the first conditional\n",
    "\n",
    "age = 22\n",
    "\n",
    "if age >= 18:\n",
    "    print(\"You can vote.\")\n",
    "elif age >= 21:\n",
    "    print(\"You can vote and drink!\")\n",
    "else:\n",
    "    print(\"You can vote, but you're too young to drink.\")"
   ]
  },
  {
   "cell_type": "markdown",
   "metadata": {},
   "source": [
    "#### also, the else block is not always necessary"
   ]
  },
  {
   "cell_type": "code",
   "execution_count": 35,
   "metadata": {},
   "outputs": [
    {
     "name": "stdout",
     "output_type": "stream",
     "text": [
      "Your admissions cost is $5.\n"
     ]
    }
   ],
   "source": [
    "# movie prices\n",
    "\n",
    "age = 12\n",
    "\n",
    "if age < 4:      # under 4, free\n",
    "    price = 0\n",
    "elif age < 18:   # over 4, under 18, $5\n",
    "    price = 5\n",
    "elif age < 65:   # over 18, under 65, $10\n",
    "    price = 10\n",
    "elif age >= 65:  # 65 or over, half price, $5\n",
    "    price = 5\n",
    "\n",
    "print(\"Your admissions cost is $\" + str(price) + \".\")"
   ]
  },
  {
   "cell_type": "markdown",
   "metadata": {},
   "source": [
    "### testing all conditions"
   ]
  },
  {
   "cell_type": "markdown",
   "metadata": {},
   "source": [
    "If you need to check ALL conditions of a test, then you should use a series of simple if-statements without `elif` or `else` blocks. That is for when more than one condition could be `True`, and you want to act on every condition that is `True`."
   ]
  },
  {
   "cell_type": "code",
   "execution_count": 36,
   "metadata": {},
   "outputs": [
    {
     "name": "stdout",
     "output_type": "stream",
     "text": [
      "Sahsa's last name is Obama.\n",
      "Malia's last name is Obama.\n",
      "Michele's married name is Obama.\n",
      "Barack's last name is Obama.\n"
     ]
    }
   ],
   "source": [
    "if 'Sasha' in obamas:\n",
    "    print(\"Sahsa's last name is Obama.\")\n",
    "if 'Malia' in obamas:\n",
    "    print(\"Malia's last name is Obama.\")\n",
    "if 'Michele' in obamas:\n",
    "    print(\"Michele's married name is Obama.\")\n",
    "if 'Barack' in obamas:\n",
    "    print(\"Barack's last name is Obama.\")\n",
    "if 'HRC' in obamas:\n",
    "    print(\"HRC was in the Obama administration.\")"
   ]
  },
  {
   "cell_type": "markdown",
   "metadata": {},
   "source": [
    "### check that a list is NOT empty\n",
    "\n",
    "If we let users provide the information stored in a list, we won't be able to assume that a list has any itmes in it each time we run a loop. In this case, we want to check if a list is empty before we run a `for loop`. When the name of a list is used in an `if-statement`, Python returns `True` if the list contains at least one item."
   ]
  },
  {
   "cell_type": "code",
   "execution_count": 37,
   "metadata": {},
   "outputs": [
    {
     "name": "stdout",
     "output_type": "stream",
     "text": [
      "Are you sure you want a plain pizza?\n"
     ]
    }
   ],
   "source": [
    "# when the name of a list is used in a if-statement,\n",
    "# Python returns 'True' if the list contains at least one item\n",
    "\n",
    "requested_toppings = []\n",
    "\n",
    "if requested_toppings:\n",
    "    for requested_topping in requested_toppings:\n",
    "        print(\"Adding \" + requested_topping + \".\")\n",
    "    print(\"\\nFinished making your pizza!\")\n",
    "else:\n",
    "    print(\"Are you sure you want a plain pizza?\")"
   ]
  },
  {
   "cell_type": "code",
   "execution_count": null,
   "metadata": {},
   "outputs": [],
   "source": []
  }
 ],
 "metadata": {
  "kernelspec": {
   "display_name": "Python 3",
   "language": "python",
   "name": "python3"
  },
  "language_info": {
   "codemirror_mode": {
    "name": "ipython",
    "version": 3
   },
   "file_extension": ".py",
   "mimetype": "text/x-python",
   "name": "python",
   "nbconvert_exporter": "python",
   "pygments_lexer": "ipython3",
   "version": "3.7.3"
  }
 },
 "nbformat": 4,
 "nbformat_minor": 2
}
