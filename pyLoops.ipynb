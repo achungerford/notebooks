{
 "cells": [
  {
   "cell_type": "markdown",
   "metadata": {},
   "source": [
    "# Loops in Python"
   ]
  },
  {
   "cell_type": "markdown",
   "metadata": {},
   "source": [
    "### For Loop\n",
    "\n",
    "Used when you want to perform the same action for every element in a list."
   ]
  },
  {
   "cell_type": "code",
   "execution_count": 18,
   "metadata": {},
   "outputs": [],
   "source": [
    "fruits = ['strawberry', 'raspberry', 'blueberry', 'blackberry', 'huckleberry']"
   ]
  },
  {
   "cell_type": "markdown",
   "metadata": {},
   "source": [
    "Print each element in a list."
   ]
  },
  {
   "cell_type": "code",
   "execution_count": 19,
   "metadata": {},
   "outputs": [
    {
     "name": "stdout",
     "output_type": "stream",
     "text": [
      "strawberry\n",
      "raspberry\n",
      "blueberry\n",
      "blackberry\n",
      "huckleberry\n"
     ]
    }
   ],
   "source": [
    "for items in fruits:\n",
    "    print(items)"
   ]
  },
  {
   "cell_type": "code",
   "execution_count": 20,
   "metadata": {},
   "outputs": [
    {
     "name": "stdout",
     "output_type": "stream",
     "text": [
      "strawberry\n",
      "raspberry\n",
      "blueberry\n",
      "blackberry\n",
      "huckleberry\n",
      "\n",
      "strawberry\n",
      "raspberry\n",
      "blueberry\n",
      "blackberry\n",
      "huckleberry\n"
     ]
    }
   ],
   "source": [
    "# it does not matter what you name the temporary variable\n",
    "\n",
    "for politicians in fruits:\n",
    "    print(politicians)\n",
    "\n",
    "# creating a break\n",
    "print(\"\")\n",
    "\n",
    "for cars in fruits:\n",
    "    print(cars)"
   ]
  },
  {
   "cell_type": "markdown",
   "metadata": {},
   "source": [
    "#### Capitalization: `title()`"
   ]
  },
  {
   "cell_type": "code",
   "execution_count": 21,
   "metadata": {},
   "outputs": [
    {
     "name": "stdout",
     "output_type": "stream",
     "text": [
      "Strawberry\n",
      "Raspberry\n",
      "Blueberry\n",
      "Blackberry\n",
      "Huckleberry\n"
     ]
    }
   ],
   "source": [
    "# capitalize each element in the list\n",
    "for fruit in fruits:\n",
    "    print(fruit.title())"
   ]
  },
  {
   "cell_type": "markdown",
   "metadata": {},
   "source": [
    "#### Concatenate string to string"
   ]
  },
  {
   "cell_type": "code",
   "execution_count": 22,
   "metadata": {},
   "outputs": [
    {
     "name": "stdout",
     "output_type": "stream",
     "text": [
      "<class 'list'>\n",
      "<class 'str'>\n"
     ]
    }
   ],
   "source": [
    "names = ['Barack', 'Michele', 'Malia', 'Sasha']\n",
    "last = \"Obama\"\n",
    "\n",
    "# names is a list, last is a string; we can't concatenate lists to strings\n",
    "\n",
    "print(type(names))\n",
    "print(type(last))"
   ]
  },
  {
   "cell_type": "code",
   "execution_count": 23,
   "metadata": {},
   "outputs": [
    {
     "name": "stdout",
     "output_type": "stream",
     "text": [
      "<class 'str'>\n",
      "<class 'str'>\n",
      "<class 'str'>\n",
      "<class 'str'>\n",
      "\n",
      "<class 'str'>\n"
     ]
    }
   ],
   "source": [
    "# However, each of the 'items' individually (the temporary variable in the list) is a string\n",
    "# And 'last' is also of type string\n",
    "\n",
    "for items in names:\n",
    "    print(type(items))\n",
    "\n",
    "print(\"\")\n",
    "\n",
    "print(type(last))"
   ]
  },
  {
   "cell_type": "code",
   "execution_count": 24,
   "metadata": {},
   "outputs": [
    {
     "name": "stdout",
     "output_type": "stream",
     "text": [
      "Barack Obama\n",
      "Michele Obama\n",
      "Malia Obama\n",
      "Sasha Obama\n"
     ]
    }
   ],
   "source": [
    "# since items are strings, and last is a string, we can concatenate\n",
    "\n",
    "for items in names:\n",
    "    print(items + \" \" + last)"
   ]
  },
  {
   "cell_type": "markdown",
   "metadata": {},
   "source": [
    "#### Slicing Lists. Looping through a sliced list."
   ]
  },
  {
   "cell_type": "code",
   "execution_count": 25,
   "metadata": {},
   "outputs": [
    {
     "name": "stdout",
     "output_type": "stream",
     "text": [
      "['richard nixon', 'gerald ford', 'jimmy carter', 'ronald reagan', 'george h.w. bush', 'bill clinton', 'george w. bush', 'barack obama', 'donald trump']\n"
     ]
    }
   ],
   "source": [
    "presidents = ['richard nixon', 'gerald ford',\n",
    "              'jimmy carter', 'ronald reagan',\n",
    "              'george h.w. bush', 'bill clinton',\n",
    "              'george w. bush', 'barack obama',\n",
    "              'donald trump']\n",
    "\n",
    "print(presidents)"
   ]
  },
  {
   "cell_type": "code",
   "execution_count": 26,
   "metadata": {},
   "outputs": [
    {
     "data": {
      "text/plain": [
       "9"
      ]
     },
     "execution_count": 26,
     "metadata": {},
     "output_type": "execute_result"
    }
   ],
   "source": [
    "# how many elements in the list?\n",
    "len(presidents)\n",
    "\n",
    "# indexes = elements-1\n",
    "# 9 names, therefore 8 indexes"
   ]
  },
  {
   "cell_type": "markdown",
   "metadata": {},
   "source": [
    "#### Slicing a list by index position\n",
    "\n",
    "`[start inlcusive:end inclusive]` - unlike `range()` for numerical lists\n"
   ]
  },
  {
   "cell_type": "code",
   "execution_count": 40,
   "metadata": {},
   "outputs": [
    {
     "name": "stdout",
     "output_type": "stream",
     "text": [
      "['richard nixon', 'gerald ford', 'jimmy carter', 'ronald reagan']\n"
     ]
    }
   ],
   "source": [
    "print(presidents[0:4])"
   ]
  },
  {
   "cell_type": "markdown",
   "metadata": {},
   "source": [
    "If you omit the first index of a slice, Python starts your slice at the beginning of the list automatically."
   ]
  },
  {
   "cell_type": "code",
   "execution_count": 41,
   "metadata": {},
   "outputs": [
    {
     "name": "stdout",
     "output_type": "stream",
     "text": [
      "['richard nixon', 'gerald ford', 'jimmy carter', 'ronald reagan', 'george h.w. bush', 'bill clinton', 'george w. bush', 'barack obama']\n"
     ]
    }
   ],
   "source": [
    "# notice there is no comma before the colon\n",
    "print(presidents[:8])"
   ]
  },
  {
   "cell_type": "markdown",
   "metadata": {},
   "source": [
    "Similarly, you can omit the end index to capture every element to the end of the list. This drops elements at the beginning."
   ]
  },
  {
   "cell_type": "code",
   "execution_count": 42,
   "metadata": {},
   "outputs": [
    {
     "name": "stdout",
     "output_type": "stream",
     "text": [
      "['richard nixon', 'gerald ford', 'jimmy carter', 'ronald reagan', 'george h.w. bush', 'bill clinton', 'george w. bush', 'barack obama', 'donald trump']\n",
      "\n",
      "['ronald reagan', 'george h.w. bush', 'bill clinton', 'george w. bush', 'barack obama', 'donald trump']\n",
      "\n",
      "['gerald ford', 'jimmy carter', 'ronald reagan', 'george h.w. bush', 'bill clinton', 'george w. bush', 'barack obama']\n"
     ]
    }
   ],
   "source": [
    "# print list\n",
    "print(presidents)\n",
    "\n",
    "print(\"\")\n",
    "\n",
    "# leave off the first 3\n",
    "print(presidents[3:])\n",
    "\n",
    "print(\"\")\n",
    "\n",
    "# leave off the crooks (Nixon, Trump)\n",
    "print(presidents[1:8])"
   ]
  },
  {
   "cell_type": "markdown",
   "metadata": {},
   "source": [
    "### Loop through a slice"
   ]
  },
  {
   "cell_type": "code",
   "execution_count": 43,
   "metadata": {},
   "outputs": [
    {
     "data": {
      "text/plain": [
       "['richard nixon',\n",
       " 'gerald ford',\n",
       " 'jimmy carter',\n",
       " 'ronald reagan',\n",
       " 'george h.w. bush',\n",
       " 'bill clinton',\n",
       " 'george w. bush',\n",
       " 'barack obama',\n",
       " 'donald trump']"
      ]
     },
     "execution_count": 43,
     "metadata": {},
     "output_type": "execute_result"
    }
   ],
   "source": [
    "presidents"
   ]
  },
  {
   "cell_type": "code",
   "execution_count": 44,
   "metadata": {},
   "outputs": [
    {
     "name": "stdout",
     "output_type": "stream",
     "text": [
      "Presidents since 2000:\n",
      "george w. bush\n",
      "barack obama\n",
      "donald trump\n"
     ]
    }
   ],
   "source": [
    "print(\"Presidents since 2000:\")\n",
    "for people in presidents[6:]:\n",
    "    print(people)"
   ]
  },
  {
   "cell_type": "code",
   "execution_count": 45,
   "metadata": {},
   "outputs": [
    {
     "name": "stdout",
     "output_type": "stream",
     "text": [
      "Presidents before 2000:\n",
      "richard nixon\n",
      "gerald ford\n",
      "jimmy carter\n",
      "ronald reagan\n",
      "george h.w. bush\n",
      "bill clinton\n"
     ]
    }
   ],
   "source": [
    "print(\"Presidents before 2000:\")\n",
    "for people in presidents[:6]:\n",
    "    print(people)"
   ]
  },
  {
   "cell_type": "markdown",
   "metadata": {},
   "source": [
    "### Copy a List"
   ]
  },
  {
   "cell_type": "code",
   "execution_count": 39,
   "metadata": {},
   "outputs": [
    {
     "name": "stdout",
     "output_type": "stream",
     "text": [
      "['cheese', 'sausage', 'mushrooms', 'onions', 'peppers', 'olives']\n",
      "['cheese', 'sausage', 'mushrooms', 'onions', 'peppers', 'olives']\n"
     ]
    }
   ],
   "source": [
    "toppings = ['cheese', 'sausage', 'mushrooms', 'onions', 'peppers', 'olives']\n",
    "the_works = toppings[:]\n",
    "\n",
    "print(toppings)\n",
    "print(the_works)"
   ]
  },
  {
   "cell_type": "markdown",
   "metadata": {},
   "source": [
    "## Tuples\n",
    "\n",
    "Tuples are a list of items, but the list is immutable. It cannot change. Tuples look like a list but they use `()` instead of `[]`. Use tuples when you want to store a set of values that should not be changed throughout the life of a program."
   ]
  },
  {
   "cell_type": "code",
   "execution_count": 46,
   "metadata": {},
   "outputs": [
    {
     "name": "stdout",
     "output_type": "stream",
     "text": [
      "200\n",
      "50\n"
     ]
    }
   ],
   "source": [
    "dimensions = (200, 50)\n",
    "\n",
    "print(dimensions[0])\n",
    "print(dimensions[1])"
   ]
  },
  {
   "cell_type": "markdown",
   "metadata": {},
   "source": [
    "You can't change a tuple. Uncomment the code below to try and change one of the items in the tuple and you'll get an error."
   ]
  },
  {
   "cell_type": "code",
   "execution_count": 47,
   "metadata": {},
   "outputs": [],
   "source": [
    "# dimensions[0] = 250"
   ]
  },
  {
   "cell_type": "markdown",
   "metadata": {},
   "source": [
    "#### for loops with tuples\n",
    "\n",
    "works the same as a list"
   ]
  },
  {
   "cell_type": "code",
   "execution_count": 49,
   "metadata": {},
   "outputs": [
    {
     "name": "stdout",
     "output_type": "stream",
     "text": [
      "200\n",
      "50\n"
     ]
    }
   ],
   "source": [
    "for items in dimensions:\n",
    "    print(items)"
   ]
  },
  {
   "cell_type": "markdown",
   "metadata": {},
   "source": [
    "#### writing over a tuple\n",
    "\n",
    "You can't modify a tuple, but you can assign new values to the variable holding a tuple."
   ]
  },
  {
   "cell_type": "code",
   "execution_count": 50,
   "metadata": {},
   "outputs": [
    {
     "data": {
      "text/plain": [
       "(200, 50)"
      ]
     },
     "execution_count": 50,
     "metadata": {},
     "output_type": "execute_result"
    }
   ],
   "source": [
    "dimensions"
   ]
  },
  {
   "cell_type": "code",
   "execution_count": 52,
   "metadata": {},
   "outputs": [
    {
     "name": "stdout",
     "output_type": "stream",
     "text": [
      "(400, 100)\n"
     ]
    }
   ],
   "source": [
    "dimensions = (400, 100)\n",
    "print(dimensions)"
   ]
  },
  {
   "cell_type": "code",
   "execution_count": null,
   "metadata": {},
   "outputs": [],
   "source": []
  }
 ],
 "metadata": {
  "kernelspec": {
   "display_name": "Python 3",
   "language": "python",
   "name": "python3"
  },
  "language_info": {
   "codemirror_mode": {
    "name": "ipython",
    "version": 3
   },
   "file_extension": ".py",
   "mimetype": "text/x-python",
   "name": "python",
   "nbconvert_exporter": "python",
   "pygments_lexer": "ipython3",
   "version": "3.7.3"
  }
 },
 "nbformat": 4,
 "nbformat_minor": 2
}
