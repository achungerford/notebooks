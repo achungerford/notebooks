{
 "cells": [
  {
   "cell_type": "markdown",
   "metadata": {},
   "source": [
    "# Loops in Python"
   ]
  },
  {
   "cell_type": "markdown",
   "metadata": {},
   "source": [
    "### For Loop\n",
    "\n",
    "Used when you want to perform the same action for every element in a list."
   ]
  },
  {
   "cell_type": "code",
   "execution_count": 1,
   "metadata": {},
   "outputs": [],
   "source": [
    "fruits = ['strawberry', 'raspberry', 'blueberry', 'blackberry', 'huckleberry']"
   ]
  },
  {
   "cell_type": "markdown",
   "metadata": {},
   "source": [
    "Print each element in a list."
   ]
  },
  {
   "cell_type": "code",
   "execution_count": 4,
   "metadata": {},
   "outputs": [
    {
     "name": "stdout",
     "output_type": "stream",
     "text": [
      "strawberry\n",
      "raspberry\n",
      "blueberry\n",
      "blackberry\n",
      "huckleberry\n"
     ]
    }
   ],
   "source": [
    "for items in fruits:\n",
    "    print(items)"
   ]
  },
  {
   "cell_type": "code",
   "execution_count": 42,
   "metadata": {},
   "outputs": [
    {
     "name": "stdout",
     "output_type": "stream",
     "text": [
      "strawberry\n",
      "raspberry\n",
      "blueberry\n",
      "blackberry\n",
      "huckleberry\n",
      "\n",
      "strawberry\n",
      "raspberry\n",
      "blueberry\n",
      "blackberry\n",
      "huckleberry\n"
     ]
    }
   ],
   "source": [
    "# it does not matter what you name the temporary variable\n",
    "\n",
    "for politicians in fruits:\n",
    "    print(politicians)\n",
    "\n",
    "# creating a break\n",
    "print(\"\")\n",
    "\n",
    "for cars in fruits:\n",
    "    print(cars)"
   ]
  },
  {
   "cell_type": "markdown",
   "metadata": {},
   "source": [
    "#### Capitalization: title()"
   ]
  },
  {
   "cell_type": "code",
   "execution_count": 47,
   "metadata": {},
   "outputs": [
    {
     "name": "stdout",
     "output_type": "stream",
     "text": [
      "Strawberry\n",
      "Raspberry\n",
      "Blueberry\n",
      "Blackberry\n",
      "Huckleberry\n"
     ]
    }
   ],
   "source": [
    "# capitalize each element in the list\n",
    "for fruit in fruits:\n",
    "    print(fruit.title())"
   ]
  },
  {
   "cell_type": "markdown",
   "metadata": {},
   "source": [
    "#### Concatenate string to string"
   ]
  },
  {
   "cell_type": "code",
   "execution_count": 43,
   "metadata": {},
   "outputs": [
    {
     "name": "stdout",
     "output_type": "stream",
     "text": [
      "<class 'list'>\n",
      "<class 'str'>\n"
     ]
    }
   ],
   "source": [
    "names = ['Rex', 'Nell', 'Alex', 'Ewen']\n",
    "last = \"Hungerford\"\n",
    "\n",
    "\n",
    "# names is a list, last is a string; we can't concatenate lists to strings\n",
    "\n",
    "print(type(names))\n",
    "print(type(last))"
   ]
  },
  {
   "cell_type": "code",
   "execution_count": 40,
   "metadata": {},
   "outputs": [
    {
     "name": "stdout",
     "output_type": "stream",
     "text": [
      "<class 'str'>\n",
      "<class 'str'>\n",
      "<class 'str'>\n",
      "<class 'str'>\n",
      "\n",
      "<class 'str'>\n"
     ]
    }
   ],
   "source": [
    "# However, each of the 'items' individually (the temporary variable in the list) is a string\n",
    "\n",
    "for items in names:\n",
    "    print(type(items))\n",
    "\n",
    "print(\"\")\n",
    "\n",
    "print(type(last))"
   ]
  },
  {
   "cell_type": "code",
   "execution_count": 44,
   "metadata": {},
   "outputs": [
    {
     "name": "stdout",
     "output_type": "stream",
     "text": [
      "Rex Hungerford\n",
      "Nell Hungerford\n",
      "Alex Hungerford\n",
      "Ewen Hungerford\n"
     ]
    }
   ],
   "source": [
    "# since items are strings, and last is a string, we can concatenate\n",
    "\n",
    "for items in names:\n",
    "    print(items + \" \" + last)"
   ]
  },
  {
   "cell_type": "code",
   "execution_count": 50,
   "metadata": {},
   "outputs": [
    {
     "name": "stdout",
     "output_type": "stream",
     "text": [
      "['Stephen', 'Warder', 'Cameron', 'MacVeagh']\n"
     ]
    }
   ],
   "source": [
    "middle = ['Stephen', 'Warder', 'Cameron', 'MacVeagh']\n",
    "print(middle)"
   ]
  },
  {
   "cell_type": "code",
   "execution_count": null,
   "metadata": {},
   "outputs": [],
   "source": []
  }
 ],
 "metadata": {
  "kernelspec": {
   "display_name": "Python 3",
   "language": "python",
   "name": "python3"
  },
  "language_info": {
   "codemirror_mode": {
    "name": "ipython",
    "version": 3
   },
   "file_extension": ".py",
   "mimetype": "text/x-python",
   "name": "python",
   "nbconvert_exporter": "python",
   "pygments_lexer": "ipython3",
   "version": "3.7.3"
  }
 },
 "nbformat": 4,
 "nbformat_minor": 2
}
