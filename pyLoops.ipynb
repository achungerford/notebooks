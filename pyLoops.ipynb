{
 "cells": [
  {
   "cell_type": "markdown",
   "metadata": {},
   "source": [
    "# Loops in Python"
   ]
  },
  {
   "cell_type": "markdown",
   "metadata": {},
   "source": [
    "### For Loop\n",
    "\n",
    "Used when you want to perform the same action for every element in a list."
   ]
  },
  {
   "cell_type": "code",
   "execution_count": 2,
   "metadata": {},
   "outputs": [],
   "source": [
    "fruits = ['strawberry', 'raspberry', 'blueberry', 'blackberry', 'huckleberry']"
   ]
  },
  {
   "cell_type": "markdown",
   "metadata": {},
   "source": [
    "Print each element in a list."
   ]
  },
  {
   "cell_type": "code",
   "execution_count": 3,
   "metadata": {},
   "outputs": [
    {
     "name": "stdout",
     "output_type": "stream",
     "text": [
      "strawberry\n",
      "raspberry\n",
      "blueberry\n",
      "blackberry\n",
      "huckleberry\n"
     ]
    }
   ],
   "source": [
    "for items in fruits:\n",
    "    print(items)"
   ]
  },
  {
   "cell_type": "code",
   "execution_count": 4,
   "metadata": {},
   "outputs": [
    {
     "name": "stdout",
     "output_type": "stream",
     "text": [
      "strawberry\n",
      "raspberry\n",
      "blueberry\n",
      "blackberry\n",
      "huckleberry\n",
      "\n",
      "strawberry\n",
      "raspberry\n",
      "blueberry\n",
      "blackberry\n",
      "huckleberry\n"
     ]
    }
   ],
   "source": [
    "# it does not matter what you name the temporary variable\n",
    "\n",
    "for politicians in fruits:\n",
    "    print(politicians)\n",
    "\n",
    "# creating a break\n",
    "print(\"\")\n",
    "\n",
    "for cars in fruits:\n",
    "    print(cars)"
   ]
  },
  {
   "cell_type": "markdown",
   "metadata": {},
   "source": [
    "#### Capitalization: `title()`"
   ]
  },
  {
   "cell_type": "code",
   "execution_count": 5,
   "metadata": {},
   "outputs": [
    {
     "name": "stdout",
     "output_type": "stream",
     "text": [
      "Strawberry\n",
      "Raspberry\n",
      "Blueberry\n",
      "Blackberry\n",
      "Huckleberry\n"
     ]
    }
   ],
   "source": [
    "# capitalize each element in the list\n",
    "for fruit in fruits:\n",
    "    print(fruit.title())"
   ]
  },
  {
   "cell_type": "markdown",
   "metadata": {},
   "source": [
    "#### Concatenate string to string"
   ]
  },
  {
   "cell_type": "code",
   "execution_count": 6,
   "metadata": {},
   "outputs": [
    {
     "name": "stdout",
     "output_type": "stream",
     "text": [
      "<class 'list'>\n",
      "<class 'str'>\n"
     ]
    }
   ],
   "source": [
    "names = ['Barack', 'Michele', 'Malia', 'Sasha']\n",
    "last = \"Obama\"\n",
    "\n",
    "# names is a list, last is a string; we can't concatenate lists to strings\n",
    "\n",
    "print(type(names))\n",
    "print(type(last))"
   ]
  },
  {
   "cell_type": "code",
   "execution_count": 7,
   "metadata": {},
   "outputs": [
    {
     "name": "stdout",
     "output_type": "stream",
     "text": [
      "<class 'str'>\n",
      "<class 'str'>\n",
      "<class 'str'>\n",
      "<class 'str'>\n",
      "\n",
      "<class 'str'>\n"
     ]
    }
   ],
   "source": [
    "# However, each of the 'items' individually (the temporary variable in the list) is a string\n",
    "# And 'last' is also of type string\n",
    "\n",
    "for items in names:\n",
    "    print(type(items))\n",
    "\n",
    "print(\"\")\n",
    "\n",
    "print(type(last))"
   ]
  },
  {
   "cell_type": "code",
   "execution_count": 8,
   "metadata": {},
   "outputs": [
    {
     "name": "stdout",
     "output_type": "stream",
     "text": [
      "Barack Obama\n",
      "Michele Obama\n",
      "Malia Obama\n",
      "Sasha Obama\n"
     ]
    }
   ],
   "source": [
    "# since items are strings, and last is a string, we can concatenate\n",
    "\n",
    "for items in names:\n",
    "    print(items + \" \" + last)"
   ]
  },
  {
   "cell_type": "markdown",
   "metadata": {},
   "source": [
    "#### Slicing Lists. Looping through a sliced list."
   ]
  },
  {
   "cell_type": "code",
   "execution_count": 9,
   "metadata": {},
   "outputs": [
    {
     "name": "stdout",
     "output_type": "stream",
     "text": [
      "['richard nixon', 'gerald ford', 'jimmy carter', 'ronald reagan', 'george h.w. bush', 'bill clinton', 'george w. bush', 'barack obama', 'donald trump']\n"
     ]
    }
   ],
   "source": [
    "presidents = ['richard nixon', 'gerald ford',\n",
    "              'jimmy carter', 'ronald reagan',\n",
    "              'george h.w. bush', 'bill clinton',\n",
    "              'george w. bush', 'barack obama',\n",
    "              'donald trump']\n",
    "\n",
    "print(presidents)"
   ]
  },
  {
   "cell_type": "code",
   "execution_count": 10,
   "metadata": {},
   "outputs": [
    {
     "data": {
      "text/plain": [
       "9"
      ]
     },
     "execution_count": 10,
     "metadata": {},
     "output_type": "execute_result"
    }
   ],
   "source": [
    "# how many elements in the list?\n",
    "len(presidents)\n",
    "\n",
    "# indexes = elements-1\n",
    "# 9 names, therefore 8 indexes"
   ]
  },
  {
   "cell_type": "markdown",
   "metadata": {},
   "source": [
    "#### Slicing a list by index position"
   ]
  },
  {
   "cell_type": "code",
   "execution_count": 11,
   "metadata": {},
   "outputs": [
    {
     "name": "stdout",
     "output_type": "stream",
     "text": [
      "['richard nixon', 'gerald ford', 'jimmy carter', 'ronald reagan']\n"
     ]
    }
   ],
   "source": [
    "# [start index inlcusive:end index inclusive] - unlike range()\n",
    "print(presidents[0:4])"
   ]
  },
  {
   "cell_type": "markdown",
   "metadata": {},
   "source": [
    "If you omit the first index of a slice, Python starts your slice at the beginning of the list automatically."
   ]
  },
  {
   "cell_type": "code",
   "execution_count": 12,
   "metadata": {},
   "outputs": [
    {
     "name": "stdout",
     "output_type": "stream",
     "text": [
      "['richard nixon', 'gerald ford', 'jimmy carter', 'ronald reagan', 'george h.w. bush', 'bill clinton', 'george w. bush', 'barack obama']\n"
     ]
    }
   ],
   "source": [
    "# notice there is no comma before the colon\n",
    "print(presidents[:8])"
   ]
  },
  {
   "cell_type": "markdown",
   "metadata": {},
   "source": [
    "Similarly, you can omit the end index to capture every element to the end of the list. This drops elements at the beginning."
   ]
  },
  {
   "cell_type": "code",
   "execution_count": 15,
   "metadata": {},
   "outputs": [
    {
     "name": "stdout",
     "output_type": "stream",
     "text": [
      "['richard nixon', 'gerald ford', 'jimmy carter', 'ronald reagan', 'george h.w. bush', 'bill clinton', 'george w. bush', 'barack obama', 'donald trump']\n",
      "\n",
      "['gerald ford', 'jimmy carter', 'ronald reagan', 'george h.w. bush', 'bill clinton', 'george w. bush', 'barack obama', 'donald trump']\n",
      "\n",
      "['gerald ford', 'jimmy carter', 'ronald reagan', 'george h.w. bush', 'bill clinton', 'george w. bush', 'barack obama']\n"
     ]
    }
   ],
   "source": [
    "# print list\n",
    "print(presidents)\n",
    "\n",
    "print(\"\")\n",
    "\n",
    "# leave off Nixon\n",
    "print(presidents[1:])\n",
    "\n",
    "print(\"\")\n",
    "\n",
    "# leave off the crooks (Nixon, Trump)\n",
    "print(presidents[1:8])"
   ]
  },
  {
   "cell_type": "code",
   "execution_count": null,
   "metadata": {},
   "outputs": [],
   "source": []
  },
  {
   "cell_type": "code",
   "execution_count": null,
   "metadata": {},
   "outputs": [],
   "source": []
  }
 ],
 "metadata": {
  "kernelspec": {
   "display_name": "Python 3",
   "language": "python",
   "name": "python3"
  },
  "language_info": {
   "codemirror_mode": {
    "name": "ipython",
    "version": 3
   },
   "file_extension": ".py",
   "mimetype": "text/x-python",
   "name": "python",
   "nbconvert_exporter": "python",
   "pygments_lexer": "ipython3",
   "version": "3.7.3"
  }
 },
 "nbformat": 4,
 "nbformat_minor": 2
}
