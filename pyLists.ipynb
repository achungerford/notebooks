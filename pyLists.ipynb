{
 "cells": [
  {
   "cell_type": "markdown",
   "metadata": {},
   "source": [
    "## Python Practice: Crash Course Python\n",
    "### Print, Concatenate, Lists - access element by index, list comprehensions, for loop, `\\n` character"
   ]
  },
  {
   "cell_type": "code",
   "execution_count": 108,
   "metadata": {
    "scrolled": true
   },
   "outputs": [],
   "source": [
    "# finding the current working directory\n",
    "# go to the terminal where you launched 'jupyter lab' and whatever directory you were in when you launched is the working direcotry."
   ]
  },
  {
   "cell_type": "markdown",
   "metadata": {},
   "source": [
    "Tips before beginning:\n",
    "* python comments begin with a `#`, just like R\n",
    "* use `\\n` to print a new line in a string\n",
    "* can also do `print(\"\")` for adding a space"
   ]
  },
  {
   "cell_type": "markdown",
   "metadata": {},
   "source": [
    "### Print Output to Console"
   ]
  },
  {
   "cell_type": "code",
   "execution_count": 62,
   "metadata": {},
   "outputs": [
    {
     "name": "stdout",
     "output_type": "stream",
     "text": [
      "The cat is black.\n",
      "The cat is still black.\n",
      "The dog is white. The pumpkin is orange.\n",
      "\n",
      "The dog is still white.\n",
      "The pumpkin is still orange.\n",
      "\n",
      "The whale is too big.\n"
     ]
    }
   ],
   "source": [
    "# print() starts a new line. The comma adds a natural space.\n",
    "\n",
    "print(\"The cat is black.\")\n",
    "print(\"The\", \"cat\", \"is still black.\")\n",
    "print(\"The dog is white. The pumpkin is orange.\")\n",
    "\n",
    "# The \\n starts a new line.\n",
    "print(\"\\nThe dog is still white.\\nThe pumpkin is still orange.\\n\")\n",
    "\n",
    "size = \"The whale is too big.\"\n",
    "print(size)"
   ]
  },
  {
   "cell_type": "markdown",
   "metadata": {},
   "source": [
    "### Concatenate strings"
   ]
  },
  {
   "cell_type": "code",
   "execution_count": 63,
   "metadata": {},
   "outputs": [
    {
     "name": "stdout",
     "output_type": "stream",
     "text": [
      "TheCatIsConcatenated but still black.\n"
     ]
    }
   ],
   "source": [
    "print(\"The\" + \"Cat\" + \"Is\" + \"Concatenated\", \"but\", \"still black.\")"
   ]
  },
  {
   "cell_type": "markdown",
   "metadata": {},
   "source": [
    "### Concatenate strings with variables\n",
    "Note:\n",
    "You cannot concatenate variables of different types.\n",
    "Uncomment the code in the \"age\" example to demonstrate the error."
   ]
  },
  {
   "cell_type": "code",
   "execution_count": 64,
   "metadata": {},
   "outputs": [
    {
     "name": "stdout",
     "output_type": "stream",
     "text": [
      "The cat has a funny look. It looks blue.\n"
     ]
    }
   ],
   "source": [
    "# color is a string\n",
    "# we can concatenate with other strings\n",
    "\n",
    "color = \"blue\"\n",
    "print(\"The cat has a funny look. It looks \" + color + \".\")"
   ]
  },
  {
   "cell_type": "markdown",
   "metadata": {},
   "source": [
    "You can't concatenate strings and integers, but you can print them. Uncomment the code in the \"age = 10\" example below to demonstrate the error.\n",
    "\n",
    "In this example, `age` is of type `int` while the `strings` are of type `str`."
   ]
  },
  {
   "cell_type": "code",
   "execution_count": 65,
   "metadata": {},
   "outputs": [],
   "source": [
    "# age = 10\n",
    "# print(\"The dog is\" + age + \"years old.\")"
   ]
  },
  {
   "cell_type": "markdown",
   "metadata": {},
   "source": [
    "We cannot concatenate strings and integers, but we can still `print` them using commas `,`."
   ]
  },
  {
   "cell_type": "code",
   "execution_count": 66,
   "metadata": {},
   "outputs": [
    {
     "name": "stdout",
     "output_type": "stream",
     "text": [
      "The cat is 6 years old.\n"
     ]
    }
   ],
   "source": [
    "age = 6\n",
    "print(\"The cat is\", age, \"years old.\")"
   ]
  },
  {
   "cell_type": "markdown",
   "metadata": {},
   "source": [
    "### Lists\n",
    "\n",
    "**List**: \n",
    "a collection of items in a *particular order*\n",
    "\n",
    "**Access element by index**\n",
    "\n",
    "Notice how the indentation of the output is altered by the `\\n` character"
   ]
  },
  {
   "cell_type": "code",
   "execution_count": 67,
   "metadata": {
    "scrolled": true
   },
   "outputs": [
    {
     "name": "stdout",
     "output_type": "stream",
     "text": [
      "Full list: ['reagan', 'h.w. bush', 'clinton', 'w. bush', 'obama', 'trump']\n"
     ]
    }
   ],
   "source": [
    "# python is a 0-indexed language\n",
    "# get element's list location (n), then determine index position (n-1)\n",
    "\n",
    "# create a list (no output)\n",
    "prez = ['reagan', 'h.w. bush', 'clinton', 'w. bush', 'obama', 'trump']\n",
    "\n",
    "# print the full list\n",
    "print(\"Full list:\", prez)"
   ]
  },
  {
   "cell_type": "code",
   "execution_count": 68,
   "metadata": {},
   "outputs": [
    {
     "name": "stdout",
     "output_type": "stream",
     "text": [
      "obama\n"
     ]
    }
   ],
   "source": [
    "# print out single element, obama. position n = 5, index n-1 = 4\n",
    "\n",
    "print(prez[4])"
   ]
  },
  {
   "cell_type": "code",
   "execution_count": 69,
   "metadata": {},
   "outputs": [
    {
     "name": "stdout",
     "output_type": "stream",
     "text": [
      "Output Democrats by index:\n",
      "clinton obama\n"
     ]
    }
   ],
   "source": [
    "# output democrats by index\n",
    "\n",
    "print(\"Output Democrats by index:\")\n",
    "print(prez[2], prez[4])"
   ]
  },
  {
   "cell_type": "code",
   "execution_count": 70,
   "metadata": {},
   "outputs": [
    {
     "name": "stdout",
     "output_type": "stream",
     "text": [
      "Output Republicans by index:\n",
      " reagan h.w. bush w. bush trump\n"
     ]
    }
   ],
   "source": [
    "# output republicans by index\n",
    "print(\"Output Republicans by index:\\n\", prez[0], prez[1], prez[3], prez[5])"
   ]
  },
  {
   "cell_type": "code",
   "execution_count": 71,
   "metadata": {},
   "outputs": [
    {
     "name": "stdout",
     "output_type": "stream",
     "text": [
      "Output Republicans by index on new lines:\n",
      "reagan\n",
      "h.w. bush\n",
      "w. bush\n",
      "trump\n"
     ]
    }
   ],
   "source": [
    "# output each republican on a new line\n",
    "\n",
    "print(\"Output Republicans by index on new lines:\")\n",
    "print(prez[0])\n",
    "print(prez[1])\n",
    "print(prez[3])\n",
    "print(prez[5])"
   ]
  },
  {
   "cell_type": "code",
   "execution_count": 72,
   "metadata": {},
   "outputs": [
    {
     "name": "stdout",
     "output_type": "stream",
     "text": [
      "\n",
      "Output Republicans by index on new lines: \n",
      " reagan \n",
      " h.w. bush \n",
      " w. bush \n",
      " trump\n"
     ]
    }
   ],
   "source": [
    "# output each republican on a new line with a single print statement\n",
    "\n",
    "print(\"\\nOutput Republicans by index on new lines:\",\n",
    "      \"\\n\", prez[0], \"\\n\", prez[1], \"\\n\",\n",
    "      prez[3], \"\\n\", prez[5])"
   ]
  },
  {
   "cell_type": "markdown",
   "metadata": {},
   "source": [
    "**`listName[-1]`** always returns the last item in a list"
   ]
  },
  {
   "cell_type": "code",
   "execution_count": 73,
   "metadata": {},
   "outputs": [
    {
     "data": {
      "text/plain": [
       "'trump'"
      ]
     },
     "execution_count": 73,
     "metadata": {},
     "output_type": "execute_result"
    }
   ],
   "source": [
    "prez[-1]"
   ]
  },
  {
   "cell_type": "markdown",
   "metadata": {},
   "source": [
    "### Changing, Adding, Removing Elements in a List\n",
    "\n",
    "**changing elements** by index"
   ]
  },
  {
   "cell_type": "code",
   "execution_count": 74,
   "metadata": {},
   "outputs": [
    {
     "name": "stdout",
     "output_type": "stream",
     "text": [
      "['reagan', 'h.w. bush', 'clinton', 'w. bush', 'obama', 'tax evader']\n"
     ]
    }
   ],
   "source": [
    "# Changing elements in a list by index\n",
    "\n",
    "prez[-1] = 'tax evader'\n",
    "print(prez)"
   ]
  },
  {
   "cell_type": "code",
   "execution_count": 75,
   "metadata": {},
   "outputs": [
    {
     "name": "stdout",
     "output_type": "stream",
     "text": [
      "['reagan', 'h.w. bush', 'clinton', 'w. bush', 'obama', 'trump']\n"
     ]
    }
   ],
   "source": [
    "# change it back\n",
    "prez[5] = 'trump'\n",
    "print(prez)"
   ]
  },
  {
   "cell_type": "markdown",
   "metadata": {},
   "source": [
    "#### **Adding elements**\n",
    "`append()` adds items onto the end of a list"
   ]
  },
  {
   "cell_type": "code",
   "execution_count": 76,
   "metadata": {},
   "outputs": [
    {
     "name": "stdout",
     "output_type": "stream",
     "text": [
      "['reagan', 'h.w. bush', 'clinton', 'w. bush', 'obama', 'trump', 'democrat']\n"
     ]
    }
   ],
   "source": [
    "# Adding elements to the end of a list\n",
    "\n",
    "prez.append('democrat')\n",
    "print(prez)"
   ]
  },
  {
   "cell_type": "markdown",
   "metadata": {},
   "source": [
    "#### **Removing items**\n",
    "`del` can remove an item from a list if you know the index of the item you want to remove."
   ]
  },
  {
   "cell_type": "code",
   "execution_count": 77,
   "metadata": {},
   "outputs": [
    {
     "data": {
      "text/plain": [
       "7"
      ]
     },
     "execution_count": 77,
     "metadata": {},
     "output_type": "execute_result"
    }
   ],
   "source": [
    "len(prez)"
   ]
  },
  {
   "cell_type": "code",
   "execution_count": 78,
   "metadata": {},
   "outputs": [
    {
     "name": "stdout",
     "output_type": "stream",
     "text": [
      "['reagan', 'h.w. bush', 'clinton', 'w. bush', 'obama', 'trump']\n"
     ]
    }
   ],
   "source": [
    "del prez[6]\n",
    "print(prez)"
   ]
  },
  {
   "cell_type": "markdown",
   "metadata": {},
   "source": [
    "`pop()` removes the last item in a  list, but lets you work with that item after removing it"
   ]
  },
  {
   "cell_type": "code",
   "execution_count": 79,
   "metadata": {},
   "outputs": [
    {
     "name": "stdout",
     "output_type": "stream",
     "text": [
      "['reagan', 'h.w. bush', 'clinton', 'w. bush', 'obama', 'trump']\n"
     ]
    }
   ],
   "source": [
    "# show full list of presidents\n",
    "print(prez)\n",
    "\n",
    "# pop the last value from the list, store it\n",
    "pop_trump = prez.pop()"
   ]
  },
  {
   "cell_type": "code",
   "execution_count": 80,
   "metadata": {},
   "outputs": [
    {
     "name": "stdout",
     "output_type": "stream",
     "text": [
      "['reagan', 'h.w. bush', 'clinton', 'w. bush', 'obama']\n",
      "DonaldTrump is a criminial.\n"
     ]
    }
   ],
   "source": [
    "# show the modified list\n",
    "print(prez)\n",
    "\n",
    "# show the popped value\n",
    "print(\"Donald\" + pop_trump.title() + \" is a criminial.\")"
   ]
  },
  {
   "cell_type": "code",
   "execution_count": 81,
   "metadata": {},
   "outputs": [
    {
     "name": "stdout",
     "output_type": "stream",
     "text": [
      "['reagan', 'h.w. bush', 'clinton', 'w. bush', 'obama', 'trump']\n"
     ]
    }
   ],
   "source": [
    "# put list back to original\n",
    "prez.append('trump')\n",
    "\n",
    "print(prez)"
   ]
  },
  {
   "cell_type": "markdown",
   "metadata": {},
   "source": [
    "You can also `pop(by_index)` for any element in a list."
   ]
  },
  {
   "cell_type": "code",
   "execution_count": 82,
   "metadata": {},
   "outputs": [
    {
     "name": "stdout",
     "output_type": "stream",
     "text": [
      "clinton\n",
      "['reagan', 'h.w. bush', 'w. bush', 'obama', 'trump']\n"
     ]
    }
   ],
   "source": [
    "# pop by index\n",
    "\n",
    "bill = prez.pop(2)\n",
    "\n",
    "print(bill)\n",
    "print(prez)"
   ]
  },
  {
   "cell_type": "code",
   "execution_count": 83,
   "metadata": {},
   "outputs": [
    {
     "name": "stdout",
     "output_type": "stream",
     "text": [
      "['reagan', 'h.w. bush', 'clinton', 'w. bush', 'obama', 'trump']\n"
     ]
    }
   ],
   "source": [
    "# restore original list\n",
    "\n",
    "prez = ['reagan', 'h.w. bush', 'clinton', 'w. bush', 'obama', 'trump']\n",
    "print(prez)"
   ]
  },
  {
   "cell_type": "markdown",
   "metadata": {},
   "source": [
    "### for loop\n",
    "\n",
    "When you want to perform the same action on every item in a list."
   ]
  },
  {
   "cell_type": "code",
   "execution_count": 84,
   "metadata": {},
   "outputs": [
    {
     "data": {
      "text/plain": [
       "['reagan', 'h.w. bush', 'clinton', 'w. bush', 'obama', 'trump']"
      ]
     },
     "execution_count": 84,
     "metadata": {},
     "output_type": "execute_result"
    }
   ],
   "source": [
    "prez"
   ]
  },
  {
   "cell_type": "code",
   "execution_count": 85,
   "metadata": {},
   "outputs": [
    {
     "name": "stdout",
     "output_type": "stream",
     "text": [
      "reagan\n",
      "h.w. bush\n",
      "clinton\n",
      "w. bush\n",
      "obama\n",
      "trump\n"
     ]
    }
   ],
   "source": [
    "for items in prez:\n",
    "    print(items)"
   ]
  },
  {
   "cell_type": "code",
   "execution_count": 86,
   "metadata": {},
   "outputs": [
    {
     "name": "stdout",
     "output_type": "stream",
     "text": [
      "reagan\n",
      "h.w. bush\n",
      "clinton\n",
      "w. bush\n",
      "obama\n",
      "trump\n"
     ]
    }
   ],
   "source": [
    "# it doesn't matter what name is chosen for the temporary variable\n",
    "\n",
    "for politicians in prez:\n",
    "    print(politicians)"
   ]
  },
  {
   "cell_type": "code",
   "execution_count": 87,
   "metadata": {},
   "outputs": [
    {
     "name": "stdout",
     "output_type": "stream",
     "text": [
      "Reagan was President of the United States.\n",
      "\n",
      "H.W. Bush was President of the United States.\n",
      "\n",
      "Clinton was President of the United States.\n",
      "\n",
      "W. Bush was President of the United States.\n",
      "\n",
      "Obama was President of the United States.\n",
      "\n",
      "Trump was President of the United States.\n",
      "\n"
     ]
    }
   ],
   "source": [
    "for politicians in prez:\n",
    "    print(politicians.title() + \" was President of the United States.\\n\")"
   ]
  },
  {
   "cell_type": "markdown",
   "metadata": {},
   "source": [
    "#### Numerical Lists"
   ]
  },
  {
   "cell_type": "markdown",
   "metadata": {},
   "source": [
    "The **range( )** function makes it easy to generate a series of numbers."
   ]
  },
  {
   "cell_type": "code",
   "execution_count": 88,
   "metadata": {},
   "outputs": [
    {
     "name": "stdout",
     "output_type": "stream",
     "text": [
      "1\n",
      "2\n",
      "3\n",
      "4\n",
      "\n",
      "10\n",
      "11\n",
      "12\n",
      "13\n",
      "14\n",
      "15\n"
     ]
    }
   ],
   "source": [
    "# again, it doesn't matter what you name the temporary variable\n",
    "# range() only generates numbers: (start, end-1, step)\n",
    "\n",
    "for candy in range(1, 5):\n",
    "    print(candy)\n",
    "\n",
    "print(\"\")\n",
    "\n",
    "for value in range(10, 16):\n",
    "    print(value)"
   ]
  },
  {
   "cell_type": "markdown",
   "metadata": {},
   "source": [
    "You can convert the results of range directly into a list using the **list( )** fucntion."
   ]
  },
  {
   "cell_type": "code",
   "execution_count": 89,
   "metadata": {},
   "outputs": [
    {
     "name": "stdout",
     "output_type": "stream",
     "text": [
      "[1, 2, 3, 4, 5, 6, 7, 8, 9, 10]\n"
     ]
    }
   ],
   "source": [
    "# use list and range functions to generate a list of numbers 1-10\n",
    "\n",
    "numbers = list(range(1, 11))\n",
    "print(numbers)"
   ]
  },
  {
   "cell_type": "code",
   "execution_count": 90,
   "metadata": {},
   "outputs": [
    {
     "name": "stdout",
     "output_type": "stream",
     "text": [
      "[2, 4, 6, 8, 10]\n"
     ]
    }
   ],
   "source": [
    "# use list and range functions to generate a list of even numbers in 1-10\n",
    "# range(start, end-1, step)\n",
    "\n",
    "even_numbers = list(range(2, 11, 2))\n",
    "\n",
    "print(even_numbers)"
   ]
  },
  {
   "cell_type": "code",
   "execution_count": 91,
   "metadata": {},
   "outputs": [
    {
     "name": "stdout",
     "output_type": "stream",
     "text": [
      "[1, 9, 25]\n"
     ]
    }
   ],
   "source": [
    "# you can create almost any set of numbers using range()\n",
    "# names of temporary variables don't matter\n",
    "\n",
    "squares = []                     # create empty list\n",
    "\n",
    "for trucks in range(1, 6, 2):    # start loop\n",
    "    square = trucks ** 2         # create a temp variable, square\n",
    "    \n",
    "    squares.append(square)       # placing each value into list\n",
    "\n",
    "\n",
    "print(squares)                   # print the list"
   ]
  },
  {
   "cell_type": "markdown",
   "metadata": {},
   "source": [
    "Generally you want to be as concise as you can with code. I can rewrite the above code more concisely, but let's change the numbers for fun."
   ]
  },
  {
   "cell_type": "code",
   "execution_count": 92,
   "metadata": {},
   "outputs": [
    {
     "name": "stdout",
     "output_type": "stream",
     "text": [
      "[0, 4, 16, 36, 64, 100]\n"
     ]
    }
   ],
   "source": [
    "# All we're doing is eliminating a temporary variable.\n",
    "# We're appending each value directly into the list\n",
    "\n",
    "squares = []                       # create empty list\n",
    "\n",
    "for trucks in range(0, 11, 2):     # start loop\n",
    "    squares.append(trucks ** 2)    # create squares & append into list\n",
    "\n",
    "print(squares)                     # print list"
   ]
  },
  {
   "cell_type": "markdown",
   "metadata": {},
   "source": [
    "### List Comprehensions\n",
    "\n",
    "A list comprehension combines the for loop and the creation of new elements into one line, and automatically appeneds each new element."
   ]
  },
  {
   "cell_type": "code",
   "execution_count": 93,
   "metadata": {},
   "outputs": [
    {
     "name": "stdout",
     "output_type": "stream",
     "text": [
      "[0, 1, 8, 27, 64, 125, 216, 343]\n"
     ]
    }
   ],
   "source": [
    "cubes = [digits ** 3 for digits in range (0, 8)]\n",
    "\n",
    "print(cubes)"
   ]
  },
  {
   "cell_type": "code",
   "execution_count": 94,
   "metadata": {},
   "outputs": [
    {
     "name": "stdout",
     "output_type": "stream",
     "text": [
      "[0, 10, 20, 30, 40, 50, 60, 70, 80, 90, 100]\n"
     ]
    }
   ],
   "source": [
    "# it does not matter what name you give the temporary variable\n",
    "results = [pics * 10 for pics in range (0, 11)]\n",
    "\n",
    "print(results)"
   ]
  },
  {
   "cell_type": "markdown",
   "metadata": {},
   "source": [
    "#### statistics with lists\n",
    "\n",
    "**`min()`, `max()`, `sum()`, `round()`, `abs()`**"
   ]
  },
  {
   "cell_type": "code",
   "execution_count": 95,
   "metadata": {},
   "outputs": [
    {
     "data": {
      "text/plain": [
       "0"
      ]
     },
     "execution_count": 95,
     "metadata": {},
     "output_type": "execute_result"
    }
   ],
   "source": [
    "min(results)"
   ]
  },
  {
   "cell_type": "code",
   "execution_count": 96,
   "metadata": {},
   "outputs": [
    {
     "data": {
      "text/plain": [
       "100"
      ]
     },
     "execution_count": 96,
     "metadata": {},
     "output_type": "execute_result"
    }
   ],
   "source": [
    "max(results)"
   ]
  },
  {
   "cell_type": "code",
   "execution_count": 97,
   "metadata": {},
   "outputs": [
    {
     "data": {
      "text/plain": [
       "550"
      ]
     },
     "execution_count": 97,
     "metadata": {},
     "output_type": "execute_result"
    }
   ],
   "source": [
    "sum(results)"
   ]
  },
  {
   "cell_type": "code",
   "execution_count": 98,
   "metadata": {},
   "outputs": [
    {
     "data": {
      "text/plain": [
       "3"
      ]
     },
     "execution_count": 98,
     "metadata": {},
     "output_type": "execute_result"
    }
   ],
   "source": [
    "pi = 3.141529\n",
    "\n",
    "round(pi)"
   ]
  },
  {
   "cell_type": "code",
   "execution_count": 99,
   "metadata": {},
   "outputs": [
    {
     "name": "stdout",
     "output_type": "stream",
     "text": [
      "3\n"
     ]
    }
   ],
   "source": [
    "# absolute value\n",
    "\n",
    "x = -3\n",
    "\n",
    "print(abs(x))"
   ]
  },
  {
   "cell_type": "markdown",
   "metadata": {},
   "source": [
    "**Length of a list or string `len()`**"
   ]
  },
  {
   "cell_type": "code",
   "execution_count": 100,
   "metadata": {},
   "outputs": [
    {
     "name": "stdout",
     "output_type": "stream",
     "text": [
      "6\n",
      "20\n"
     ]
    }
   ],
   "source": [
    "prez = ['reagan', 'h.w. bush', 'clinton', 'w. bush', 'obama', 'trump']\n",
    "\n",
    "# how many elements in the list\n",
    "print(len(prez))\n",
    "\n",
    "\n",
    "# how many characters in a string, including spaces\n",
    "\n",
    "name = \"Alexander Hungerford\"\n",
    "print(len(name))"
   ]
  },
  {
   "cell_type": "markdown",
   "metadata": {},
   "source": [
    "#### New Line character `\\n`\n",
    "It can alter the alignment of your output in jupyter notebooks."
   ]
  },
  {
   "cell_type": "code",
   "execution_count": 101,
   "metadata": {
    "scrolled": true
   },
   "outputs": [
    {
     "name": "stdout",
     "output_type": "stream",
     "text": [
      "obama\n"
     ]
    }
   ],
   "source": [
    "prez = ['reagan', 'h.w. bush', 'clinton', 'w. bush', 'obama', 'trump']\n",
    "\n",
    "print(prez[4])"
   ]
  },
  {
   "cell_type": "code",
   "execution_count": 102,
   "metadata": {
    "scrolled": true
   },
   "outputs": [
    {
     "name": "stdout",
     "output_type": "stream",
     "text": [
      "Alignment version 1:\n",
      "clinton\n",
      "clinton\n"
     ]
    }
   ],
   "source": [
    "# notice the alignment. We are not using a \\n character.\n",
    "\n",
    "# instead of \\n, we are using multiple print() statements\n",
    "\n",
    "print(\"Alignment version 1:\")\n",
    "print(prez[2])\n",
    "print(prez[2])"
   ]
  },
  {
   "cell_type": "code",
   "execution_count": 103,
   "metadata": {
    "scrolled": true
   },
   "outputs": [
    {
     "name": "stdout",
     "output_type": "stream",
     "text": [
      "Alignment version 2:\n",
      " clinton \n",
      " clinton\n"
     ]
    }
   ],
   "source": [
    "# alignment with \\n, but only one print() statement\n",
    "\n",
    "print(\"Alignment version 2:\\n\", prez[2], \"\\n\", prez[2])"
   ]
  },
  {
   "cell_type": "code",
   "execution_count": 104,
   "metadata": {
    "scrolled": true
   },
   "outputs": [
    {
     "name": "stdout",
     "output_type": "stream",
     "text": [
      "Alignment version 3:\n",
      "\n",
      " clinton\n",
      "\n",
      " clinton\n"
     ]
    }
   ],
   "source": [
    "# alignment with \\n; but also multiple print() statements\n",
    "\n",
    "print(\"Alignment version 3:\")\n",
    "print(\"\\n\", prez[2])\n",
    "print(\"\\n\", prez[2])"
   ]
  },
  {
   "cell_type": "code",
   "execution_count": 105,
   "metadata": {},
   "outputs": [
    {
     "name": "stdout",
     "output_type": "stream",
     "text": [
      "Alignment version 4:\n",
      "clinton \n",
      " clinton\n"
     ]
    }
   ],
   "source": [
    "# alignment with \\n; single print()\n",
    "\n",
    "print(\"Alignment version 4:\")\n",
    "print(prez[2], \"\\n\", prez[2])"
   ]
  },
  {
   "cell_type": "code",
   "execution_count": 106,
   "metadata": {
    "scrolled": true
   },
   "outputs": [
    {
     "name": "stdout",
     "output_type": "stream",
     "text": [
      "Alignment version 5:\n",
      " clinton\n",
      "clinton\n"
     ]
    }
   ],
   "source": [
    "# notice the alignment with \\n; multiple print()\n",
    "\n",
    "print(\"Alignment version 5:\\n\", prez[2])\n",
    "print(prez[2])"
   ]
  }
 ],
 "metadata": {
  "kernelspec": {
   "display_name": "Python 3",
   "language": "python",
   "name": "python3"
  },
  "language_info": {
   "codemirror_mode": {
    "name": "ipython",
    "version": 3
   },
   "file_extension": ".py",
   "mimetype": "text/x-python",
   "name": "python",
   "nbconvert_exporter": "python",
   "pygments_lexer": "ipython3",
   "version": "3.7.3"
  }
 },
 "nbformat": 4,
 "nbformat_minor": 2
}
